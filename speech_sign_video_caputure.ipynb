{
 "cells": [
  {
   "cell_type": "code",
   "execution_count": 6,
   "id": "42ad9006",
   "metadata": {},
   "outputs": [],
   "source": [
    "import os\n",
    "import cv2\n",
    "\n",
    "data_path = os.path.join('videos') #path for exported data"
   ]
  },
  {
   "cell_type": "code",
   "execution_count": 2,
   "id": "b62805ee",
   "metadata": {},
   "outputs": [],
   "source": [
    "#create folders\n",
    "videos = ['hello','how_are_you','good','bad','thank_you']\n",
    "for action in videos:\n",
    "    try:\n",
    "        os.makedirs(os.path.join(data_path,action))\n",
    "    except:\n",
    "        pass"
   ]
  },
  {
   "cell_type": "code",
   "execution_count": 7,
   "id": "5a837ea9",
   "metadata": {},
   "outputs": [],
   "source": [
    "len_sequence = 30 #number of frames for each video"
   ]
  },
  {
   "cell_type": "code",
   "execution_count": 21,
   "id": "eb716881",
   "metadata": {},
   "outputs": [
    {
     "name": "stdout",
     "output_type": "stream",
     "text": [
      "getting ready for recoding\n",
      "starting video recoding\n"
     ]
    }
   ],
   "source": [
    "cap = cv2.VideoCapture(0) #to use internal camera\n",
    "action = 'how_are_you'\n",
    "print('getting ready for recoding')\n",
    "cv2.waitKey(300)\n",
    "print('starting video recoding')\n",
    "for lenght in range(len_sequence):\n",
    "    cv2.waitKey(100)\n",
    "    ret,frame = cap.read() #capturing a snap\n",
    "    filename = os.path.join(data_path,action,'{}.jpg'.format(str(lenght)))\n",
    "    #print(results)\n",
    "    #display results \n",
    "    \n",
    "    cv2.imwrite(filename, frame)\n",
    "    cv2.imshow('openCV Feed',frame) #show image on screen\n",
    "                \n",
    "    if cv2.waitKey(10) & 0xFF == ord('q'):\n",
    "        break\n",
    "               \n",
    "                \n",
    "cap.release()\n",
    "cv2.destroyAllWindows()"
   ]
  },
  {
   "cell_type": "code",
   "execution_count": 19,
   "id": "eb6c0995",
   "metadata": {},
   "outputs": [],
   "source": [
    "#read video and display it on screen\n",
    "def get_video(action):\n",
    "    cap = cv2.VideoCapture(0) #to use internal camera\n",
    "    for lenght in range(len_sequence):\n",
    "        filename = os.path.join(data_path,action,'{}.jpg'.format(str(lenght))) #path to the image\n",
    "        #print(results)\n",
    "        #display results \n",
    "        cv2.waitKey(200) \n",
    "        frame = cv2.imread(filename)\n",
    "        cv2.imshow('openCV Feed',frame) #show image on screen\n",
    "        if cv2.waitKey(10) & 0xFF == ord('q'):\n",
    "            break\n",
    "                      \n",
    "    cap.release()\n",
    "    cv2.destroyAllWindows()"
   ]
  },
  {
   "cell_type": "code",
   "execution_count": 5,
   "id": "73b0b036",
   "metadata": {},
   "outputs": [],
   "source": [
    "get_video('hello')"
   ]
  },
  {
   "cell_type": "code",
   "execution_count": 28,
   "id": "b9e92e3a",
   "metadata": {},
   "outputs": [],
   "source": [
    "cap.release()\n",
    "cv2.destroyAllWindows()"
   ]
  },
  {
   "cell_type": "code",
   "execution_count": null,
   "id": "cbeb90e4",
   "metadata": {},
   "outputs": [],
   "source": []
  }
 ],
 "metadata": {
  "kernelspec": {
   "display_name": "Python 3 (ipykernel)",
   "language": "python",
   "name": "python3"
  },
  "language_info": {
   "codemirror_mode": {
    "name": "ipython",
    "version": 3
   },
   "file_extension": ".py",
   "mimetype": "text/x-python",
   "name": "python",
   "nbconvert_exporter": "python",
   "pygments_lexer": "ipython3",
   "version": "3.9.12"
  }
 },
 "nbformat": 4,
 "nbformat_minor": 5
}
