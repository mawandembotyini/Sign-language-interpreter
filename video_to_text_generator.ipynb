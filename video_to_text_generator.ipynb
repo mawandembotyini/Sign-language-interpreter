{
 "cells": [
  {
   "cell_type": "code",
   "execution_count": 17,
   "id": "ca1a1224",
   "metadata": {},
   "outputs": [],
   "source": [
    "from keras.models import load_model\n",
    "def get_model():\n",
    "    data_path = os.path.join('models') #path for exported data\n",
    "    actions = np.array(['hello','how_are_you','good','Bad','Thank_you'])\n",
    "    model = load_model(os.path.join(data_path,'model{}.h5'.format(1)))\n",
    "    return model"
   ]
  },
  {
   "cell_type": "code",
   "execution_count": 18,
   "id": "6785c8c7",
   "metadata": {},
   "outputs": [],
   "source": [
    "#making predictions\n",
    "def get_prediction(video):\n",
    "    model = get_model()\n",
    "    res_test = model.predict(video)\n",
    "    predicted_action = actions[np.argmax(res_test)]\n",
    "    return predicted_action"
   ]
  },
  {
   "cell_type": "code",
   "execution_count": 19,
   "id": "2e7222e4",
   "metadata": {},
   "outputs": [],
   "source": [
    "import pyttsx3\n",
    "def play_speech(video):\n",
    "    text_to_speech = pyttsx3.init(driverName='sapi5',debug=True)\n",
    "    text = get_prediction(video)\n",
    "    "
   ]
  },
  {
   "cell_type": "code",
   "execution_count": 20,
   "id": "e01e298a",
   "metadata": {},
   "outputs": [
    {
     "ename": "NameError",
     "evalue": "name 'mp_holistic' is not defined",
     "output_type": "error",
     "traceback": [
      "\u001b[1;31m---------------------------------------------------------------------------\u001b[0m",
      "\u001b[1;31mNameError\u001b[0m                                 Traceback (most recent call last)",
      "Input \u001b[1;32mIn [20]\u001b[0m, in \u001b[0;36m<cell line: 2>\u001b[1;34m()\u001b[0m\n\u001b[0;32m      1\u001b[0m feature_points \u001b[38;5;241m=\u001b[39m []\n\u001b[1;32m----> 2\u001b[0m \u001b[38;5;28;01mwith\u001b[39;00m \u001b[43mmp_holistic\u001b[49m\u001b[38;5;241m.\u001b[39mHolistic(min_detection_confidence \u001b[38;5;241m=\u001b[39m \u001b[38;5;241m0.5\u001b[39m, min_tracking_confidence \u001b[38;5;241m=\u001b[39m \u001b[38;5;241m0.5\u001b[39m) \u001b[38;5;28;01mas\u001b[39;00m holistic:\n\u001b[0;32m      3\u001b[0m     \u001b[38;5;28;01mwhile\u001b[39;00m cap \u001b[38;5;129;01mis\u001b[39;00m on:\n\u001b[0;32m      5\u001b[0m         ret,frame \u001b[38;5;241m=\u001b[39m cap\u001b[38;5;241m.\u001b[39mread() \u001b[38;5;66;03m#capturing a snap\u001b[39;00m\n",
      "\u001b[1;31mNameError\u001b[0m: name 'mp_holistic' is not defined"
     ]
    }
   ],
   "source": [
    "feature_points = []\n",
    "with mp_holistic.Holistic(min_detection_confidence = 0.5, min_tracking_confidence = 0.5) as holistic:\n",
    "    while cap is on:\n",
    "                \n",
    "        ret,frame = cap.read() #capturing a snap\n",
    "        #make detections\n",
    "        image, results = mediapipe_detection(frame,holistic)\n",
    "        #draw_landmarks(image,results)\n",
    "        key_points = extract_keypoints(results)\n",
    "        feature_points.append(key_points)\n",
    "        if cv2.waitKey(10) & 0xFF == ord('q'):\n",
    "            cap.release()\n",
    "            cv2.destroyAllWindows()\n",
    "            break\n",
    "        if len(feature_points) > 29:\n",
    "            #check is the image is defined\n",
    "            res = model.predict(feature_points)\n",
    "            if res[na.argmax(res)] > 0.5:\n",
    "                #prints the action\n",
    "                action = actions[na.argmax(res)]\n",
    "                print(action)\n",
    "                #remove all frames\n",
    "                featur_points.clear()\n",
    "                cv2.waitKey(200)\n",
    "            else:\n",
    "                #remove the first frame\n",
    "                feature_points.remove(0)\n",
    "            \n"
   ]
  },
  {
   "cell_type": "code",
   "execution_count": null,
   "id": "af9c8cdf",
   "metadata": {},
   "outputs": [],
   "source": []
  }
 ],
 "metadata": {
  "kernelspec": {
   "display_name": "Python 3 (ipykernel)",
   "language": "python",
   "name": "python3"
  },
  "language_info": {
   "codemirror_mode": {
    "name": "ipython",
    "version": 3
   },
   "file_extension": ".py",
   "mimetype": "text/x-python",
   "name": "python",
   "nbconvert_exporter": "python",
   "pygments_lexer": "ipython3",
   "version": "3.9.12"
  }
 },
 "nbformat": 4,
 "nbformat_minor": 5
}
