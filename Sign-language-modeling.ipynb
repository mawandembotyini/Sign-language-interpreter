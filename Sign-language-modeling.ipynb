{
 "cells": [
  {
   "cell_type": "code",
   "execution_count": 79,
   "id": "7a4f9f48",
   "metadata": {},
   "outputs": [],
   "source": [
    "import cv2 #computer vision to work with webcam\n",
    "import numpy as np\n",
    "import os #used to work with file paths\n",
    "from matplotlib import pyplot as plt #used for visualisation\n",
    "import time\n",
    "import mediapipe as mp #used to extract keypoints"
   ]
  },
  {
   "cell_type": "code",
   "execution_count": 80,
   "id": "1e2b3dec",
   "metadata": {},
   "outputs": [],
   "source": [
    "#holistic\n",
    "mp_holistic = mp.solutions.holistic #make predictions on body\n",
    "mp_drawing = mp.solutions.drawing_utils #draw our predictions"
   ]
  },
  {
   "cell_type": "code",
   "execution_count": 81,
   "id": "d6435669",
   "metadata": {},
   "outputs": [],
   "source": [
    "def mediapipe_detection(image,model):\n",
    "    image = cv2.cvtColor(image,cv2.COLOR_BGR2RGB)\n",
    "    image.flags.writeable = False\n",
    "    results = model.process(image)\n",
    "    image.flags.writeable = True\n",
    "    image = cv2.cvtColor(image,cv2.COLOR_RGB2BGR)\n",
    "    return image,results"
   ]
  },
  {
   "cell_type": "code",
   "execution_count": 82,
   "id": "e8ff8a6e",
   "metadata": {},
   "outputs": [],
   "source": [
    "def draw_landmarks(image,results):\n",
    "    mp_drawing.draw_landmarks(image,results.face_landmarks,mp_holistic.FACEMESH_CONTOURS,\n",
    "                              mp_drawing.DrawingSpec(color = (50,50,130),thickness = 1, circle_radius = 1),\n",
    "                              mp_drawing.DrawingSpec(color = (100,100,100),thickness = 1, circle_radius = 1))\n",
    "    mp_drawing.draw_landmarks(image,results.pose_landmarks,mp_holistic.POSE_CONNECTIONS)\n",
    "    mp_drawing.draw_landmarks(image,results.left_hand_landmarks,mp_holistic.HAND_CONNECTIONS)\n",
    "    mp_drawing.draw_landmarks(image,results.right_hand_landmarks,mp_holistic.HAND_CONNECTIONS)"
   ]
  },
  {
   "cell_type": "code",
   "execution_count": 83,
   "id": "b5d68f2c",
   "metadata": {},
   "outputs": [],
   "source": [
    "def extract_keypoints(results):\n",
    "    pose = np.array([[res.x,res.y,res.z, res.visibility] for res in results.pose_landmarks.landmark]).flatten() if results.pose_landmarks else np.zeros(33*4)\n",
    "    face = np.array([[res.x,res.y,res.z] for res in results.face_landmarks.landmark]).flatten() if results.face_landmarks else np.zeros(468*3)\n",
    "    left_hand = np.array([[res.x,res.y,res.z] for res in results.left_hand_landmarks.landmark]).flatten() if results.left_hand_landmarks else np.zeros(21*3)\n",
    "    right_hand = np.array([[res.x,res.y,res.z] for res in results.right_hand_landmarks.landmark]).flatten() if results.right_hand_landmarks else np.zeros(21*3)\n",
    "    return np.concatenate([pose,face,left_hand,right_hand])"
   ]
  },
  {
   "cell_type": "code",
   "execution_count": 100,
   "id": "232c86ed",
   "metadata": {},
   "outputs": [],
   "source": [
    "#create videos\n",
    "\n",
    "#create media pipe model\n",
    "actions = np.array(['Thank_you'])\n",
    "no_sequences = 30 #number of videos to use for training\n",
    "len_sequence = 30 #number of frames for each video\n",
    "video = []\n",
    "data_path = os.path.join('mpdata') #path for exported data"
   ]
  },
  {
   "cell_type": "code",
   "execution_count": 101,
   "id": "b741b2ce",
   "metadata": {},
   "outputs": [],
   "source": [
    "#create folders\n",
    "for action in actions:\n",
    "    for sequence in range(no_sequences):\n",
    "        try:\n",
    "            os.makedirs(os.path.join(data_path,action,str(sequence)))\n",
    "        except:\n",
    "            pass"
   ]
  },
  {
   "cell_type": "code",
   "execution_count": 102,
   "id": "4866d380",
   "metadata": {},
   "outputs": [
    {
     "ename": "KeyboardInterrupt",
     "evalue": "",
     "output_type": "error",
     "traceback": [
      "\u001b[1;31m---------------------------------------------------------------------------\u001b[0m",
      "\u001b[1;31mKeyboardInterrupt\u001b[0m                         Traceback (most recent call last)",
      "Input \u001b[1;32mIn [102]\u001b[0m, in \u001b[0;36m<cell line: 37>\u001b[1;34m()\u001b[0m\n\u001b[0;32m     42\u001b[0m     \u001b[38;5;28;01melse\u001b[39;00m:\n\u001b[0;32m     43\u001b[0m         cv2\u001b[38;5;241m.\u001b[39mputText(image,\u001b[38;5;124m'\u001b[39m\u001b[38;5;124mplaying the video\u001b[39m\u001b[38;5;124m'\u001b[39m,(\u001b[38;5;241m12\u001b[39m,\u001b[38;5;241m20\u001b[39m), cv2\u001b[38;5;241m.\u001b[39mFONT_HERSHEY_SIMPLEX,\u001b[38;5;241m1\u001b[39m, (\u001b[38;5;241m0\u001b[39m,\u001b[38;5;241m255\u001b[39m,\u001b[38;5;241m0\u001b[39m),\u001b[38;5;241m1\u001b[39m, cv2\u001b[38;5;241m.\u001b[39mLINE_AA)\n\u001b[1;32m---> 44\u001b[0m         \u001b[43mcv2\u001b[49m\u001b[38;5;241;43m.\u001b[39;49m\u001b[43mwaitKey\u001b[49m\u001b[43m(\u001b[49m\u001b[38;5;241;43m150\u001b[39;49m\u001b[43m)\u001b[49m\n\u001b[0;32m     45\u001b[0m         cv2\u001b[38;5;241m.\u001b[39mimshow(\u001b[38;5;124m'\u001b[39m\u001b[38;5;124mopenCV Feed\u001b[39m\u001b[38;5;124m'\u001b[39m,image) \u001b[38;5;66;03m#show image on screen\u001b[39;00m\n\u001b[0;32m     48\u001b[0m cap\u001b[38;5;241m.\u001b[39mrelease()\n",
      "\u001b[1;31mKeyboardInterrupt\u001b[0m: "
     ]
    }
   ],
   "source": [
    "#create videos\n",
    "cap = cv2.VideoCapture(0) #to use internal camera\n",
    "#create media pipe model\n",
    "\n",
    "blank_image = 255 * np.ones(shape=[512, 512, 3], dtype=np.uint8)\n",
    "with mp_holistic.Holistic(min_detection_confidence = 0.5, min_tracking_confidence = 0.5) as holistic:\n",
    "    for action in actions:\n",
    "        for sequence in range(no_sequences):\n",
    "            for lenght in range(len_sequence):\n",
    "                \n",
    "                ret,frame = cap.read() #capturing a snap\n",
    "                #make detections\n",
    "                image, results = mediapipe_detection(frame,holistic)\n",
    "                \n",
    "                #draw_landmarks(image,results)\n",
    "                #print(results)\n",
    "                #display results\n",
    "               # cv2.waitKey(100)\n",
    "                if lenght == 0:\n",
    "                    cv2.putText(image,'starting collecting data',(12,20), cv2.FONT_HERSHEY_SIMPLEX,1, (0,255,0),1, cv2.LINE_AA)\n",
    "                    cv2.putText(image,'collecting frames for {} video_number {}'.format(action,str(sequence)),(12,10), \n",
    "                                cv2.FONT_HERSHEY_SIMPLEX,1, (0,0,255),1, cv2.LINE_AA)\n",
    "                    cv2.waitKey(2000)\n",
    "                else:\n",
    "                    cv2.putText(image,'collecting frames for {} video_number {}'.format(action,str(sequence)),(12,150), \n",
    "                                cv2.FONT_HERSHEY_SIMPLEX,1, (0,0,255),1, cv2.LINE_AA)\n",
    "                key_points = extract_keypoints(results)\n",
    "                npy_path = os.path.join(data_path,action,str(sequence),str(lenght))\n",
    "                np.save(npy_path,key_points)\n",
    "                cv2.imshow('openCV Feed',image) #show image on screen\n",
    "                video.append(image)\n",
    "                if cv2.waitKey(10) & 0xFF == ord('q'):\n",
    "                    break\n",
    "cv2.putText(blank_image,'getting ready to play the video',(12,50), cv2.FONT_HERSHEY_SIMPLEX,1, (255,255,0),1, cv2.LINE_AA)\n",
    "cv2.imshow('openCV Feed',blank_image)\n",
    "cv2.waitKey(4000)                    \n",
    "for image in video:\n",
    "    \n",
    "    \n",
    "    if cv2.waitKey(10) & 0xFF == ord('q'):\n",
    "        break\n",
    "    else:\n",
    "        cv2.putText(image,'playing the video',(12,20), cv2.FONT_HERSHEY_SIMPLEX,1, (0,255,0),1, cv2.LINE_AA)\n",
    "        cv2.waitKey(150)\n",
    "        cv2.imshow('openCV Feed',image) #show image on screen\n",
    "               \n",
    "                \n",
    "cap.release()\n",
    "cv2.destroyAllWindows()"
   ]
  },
  {
   "cell_type": "code",
   "execution_count": null,
   "id": "cadc9575",
   "metadata": {},
   "outputs": [],
   "source": [
    "\n",
    "for image in video:\n",
    "    \n",
    "    \n",
    "    if cv2.waitKey(10) & 0xFF == ord('q'):\n",
    "        break\n",
    "    else:\n",
    "        cv2.putText(image,'playing the video',(12,20), cv2.FONT_HERSHEY_SIMPLEX,1, (0,255,0),1, cv2.LINE_AA)\n",
    "        cv2.waitKey(150)\n",
    "        cv2.imshow('openCV Feed',image) #show image on screen\n",
    "               \n",
    "                \n",
    "cap.release()\n",
    "cv2.destroyAllWindows()"
   ]
  },
  {
   "cell_type": "code",
   "execution_count": 103,
   "id": "d5af3fcd",
   "metadata": {},
   "outputs": [],
   "source": [
    "cap.release()\n",
    "cv2.destroyAllWindows()"
   ]
  },
  {
   "cell_type": "code",
   "execution_count": 106,
   "id": "de819e95",
   "metadata": {},
   "outputs": [],
   "source": [
    "#pre processing the data\n",
    "from sklearn.model_selection import train_test_split #used to split the data into training and evaluation\n",
    "from tensorflow.keras.utils import to_categorical #used to converts data to one hat encoding\n",
    "\n",
    "actions = np.array(['hello','how_are_you','good','Bad','Thank_you'])\n",
    "label_map = {label:num for num,label in enumerate(actions)} #map the actions to enumeration"
   ]
  },
  {
   "cell_type": "code",
   "execution_count": 107,
   "id": "95f0398a",
   "metadata": {},
   "outputs": [
    {
     "data": {
      "text/plain": [
       "{'hello': 0, 'how_are_you': 1, 'good': 2, 'Bad': 3, 'Thank_you': 4}"
      ]
     },
     "execution_count": 107,
     "metadata": {},
     "output_type": "execute_result"
    }
   ],
   "source": [
    "label_map"
   ]
  },
  {
   "cell_type": "code",
   "execution_count": 108,
   "id": "4193299c",
   "metadata": {},
   "outputs": [],
   "source": [
    "#getting back the data\n",
    "sequences,labels = [],[]\n",
    "for action in actions:\n",
    "    for sequence in range(no_sequences):\n",
    "        window = []\n",
    "        for lenght in range(len_sequence):\n",
    "            res = np.load(os.path.join(data_path,action,str(sequence),'{}.npy'.format(lenght)))\n",
    "            window.append(res)\n",
    "        sequences.append(window)\n",
    "        labels.append(label_map[action])"
   ]
  },
  {
   "cell_type": "code",
   "execution_count": 109,
   "id": "e88749ae",
   "metadata": {},
   "outputs": [],
   "source": [
    "X = np.array(sequences)\n",
    "Y = to_categorical(labels).astype(int) #one hot encoding the labels"
   ]
  },
  {
   "cell_type": "code",
   "execution_count": 110,
   "id": "71575f3c",
   "metadata": {},
   "outputs": [],
   "source": [
    "#processing traing data\n",
    "X_train,X_test,y_train,y_test = train_test_split(X,Y,test_size = 0.1)"
   ]
  },
  {
   "cell_type": "code",
   "execution_count": 111,
   "id": "6b3e3694",
   "metadata": {},
   "outputs": [],
   "source": [
    "#build and train the neural network\n",
    "from tensorflow.keras.models import Sequential\n",
    "from tensorflow.keras.layers import LSTM, Dense\n",
    "from tensorflow.keras.callbacks import TensorBoard\n",
    "\n",
    "#tensor board allows to see the progress of your model while it is training\n",
    "log_dir = os.path.join('logs')\n",
    "call_back = TensorBoard(log_dir = log_dir)"
   ]
  },
  {
   "cell_type": "code",
   "execution_count": 147,
   "id": "c8a04883",
   "metadata": {},
   "outputs": [],
   "source": [
    "model = Sequential()\n",
    "model.add(LSTM(64, return_sequences = True, activation = 'relu',input_shape = (30,1662)))\n",
    "model.add(LSTM(128, return_sequences = True, activation = 'relu'))\n",
    "model.add(LSTM(64, return_sequences = False, activation = 'relu'))\n",
    "\n",
    "model.add(Dense(64, activation = 'relu'))\n",
    "model.add(Dense(32, activation = 'relu'))\n",
    "model.add(Dense(actions.shape[0], activation = 'softmax'))"
   ]
  },
  {
   "cell_type": "code",
   "execution_count": 148,
   "id": "2277b8b9",
   "metadata": {},
   "outputs": [],
   "source": [
    "model.compile(optimizer ='Adam',loss='categorical_crossentropy',metrics='categorical_accuracy')"
   ]
  },
  {
   "cell_type": "code",
   "execution_count": 149,
   "id": "3da1fc24",
   "metadata": {},
   "outputs": [
    {
     "name": "stdout",
     "output_type": "stream",
     "text": [
      "Epoch 1/200\n",
      "5/5 [==============================] - 7s 878ms/step - loss: 1.6236 - categorical_accuracy: 0.2074\n",
      "Epoch 2/200\n",
      "5/5 [==============================] - 0s 67ms/step - loss: 1.6114 - categorical_accuracy: 0.2222\n",
      "Epoch 3/200\n",
      "5/5 [==============================] - 0s 61ms/step - loss: 1.5959 - categorical_accuracy: 0.3111\n",
      "Epoch 4/200\n",
      "5/5 [==============================] - 0s 66ms/step - loss: 1.4881 - categorical_accuracy: 0.4074\n",
      "Epoch 5/200\n",
      "5/5 [==============================] - 0s 63ms/step - loss: 1.3955 - categorical_accuracy: 0.4000\n",
      "Epoch 6/200\n",
      "5/5 [==============================] - 0s 63ms/step - loss: 1.3080 - categorical_accuracy: 0.4222\n",
      "Epoch 7/200\n",
      "5/5 [==============================] - 0s 63ms/step - loss: 1.2426 - categorical_accuracy: 0.4296\n",
      "Epoch 8/200\n",
      "5/5 [==============================] - 0s 63ms/step - loss: 1.1005 - categorical_accuracy: 0.4444\n",
      "Epoch 9/200\n",
      "5/5 [==============================] - 0s 59ms/step - loss: 1.2132 - categorical_accuracy: 0.5481\n",
      "Epoch 10/200\n",
      "5/5 [==============================] - 0s 59ms/step - loss: 1.1360 - categorical_accuracy: 0.5333\n",
      "Epoch 11/200\n",
      "5/5 [==============================] - 0s 63ms/step - loss: 1.0162 - categorical_accuracy: 0.5259\n",
      "Epoch 12/200\n",
      "5/5 [==============================] - 0s 63ms/step - loss: 0.9237 - categorical_accuracy: 0.5185\n",
      "Epoch 13/200\n",
      "5/5 [==============================] - 0s 63ms/step - loss: 0.9656 - categorical_accuracy: 0.5704\n",
      "Epoch 14/200\n",
      "5/5 [==============================] - 0s 63ms/step - loss: 0.9026 - categorical_accuracy: 0.5926\n",
      "Epoch 15/200\n",
      "5/5 [==============================] - 0s 60ms/step - loss: 1.4414 - categorical_accuracy: 0.4741\n",
      "Epoch 16/200\n",
      "5/5 [==============================] - 0s 63ms/step - loss: 1.3697 - categorical_accuracy: 0.3926\n",
      "Epoch 17/200\n",
      "5/5 [==============================] - 0s 63ms/step - loss: 1.4176 - categorical_accuracy: 0.3407\n",
      "Epoch 18/200\n",
      "5/5 [==============================] - 0s 63ms/step - loss: 1.3711 - categorical_accuracy: 0.2519\n",
      "Epoch 19/200\n",
      "5/5 [==============================] - 0s 64ms/step - loss: 1.3434 - categorical_accuracy: 0.2667\n",
      "Epoch 20/200\n",
      "5/5 [==============================] - 0s 63ms/step - loss: 1.2880 - categorical_accuracy: 0.3778\n",
      "Epoch 21/200\n",
      "5/5 [==============================] - 0s 59ms/step - loss: 1.2697 - categorical_accuracy: 0.3852\n",
      "Epoch 22/200\n",
      "5/5 [==============================] - 0s 58ms/step - loss: 1.2583 - categorical_accuracy: 0.4519\n",
      "Epoch 23/200\n",
      "5/5 [==============================] - 0s 67ms/step - loss: 1.1640 - categorical_accuracy: 0.5778\n",
      "Epoch 24/200\n",
      "5/5 [==============================] - 0s 65ms/step - loss: 1.0852 - categorical_accuracy: 0.5333\n",
      "Epoch 25/200\n",
      "5/5 [==============================] - 0s 63ms/step - loss: 0.9934 - categorical_accuracy: 0.5630\n",
      "Epoch 26/200\n",
      "5/5 [==============================] - 0s 62ms/step - loss: 0.9843 - categorical_accuracy: 0.4889\n",
      "Epoch 27/200\n",
      "5/5 [==============================] - 0s 78ms/step - loss: 0.9222 - categorical_accuracy: 0.6296\n",
      "Epoch 28/200\n",
      "5/5 [==============================] - 0s 63ms/step - loss: 0.8625 - categorical_accuracy: 0.6444\n",
      "Epoch 29/200\n",
      "5/5 [==============================] - 0s 63ms/step - loss: 0.9978 - categorical_accuracy: 0.6074\n",
      "Epoch 30/200\n",
      "5/5 [==============================] - 0s 71ms/step - loss: 0.8729 - categorical_accuracy: 0.6963\n",
      "Epoch 31/200\n",
      "5/5 [==============================] - 0s 63ms/step - loss: 0.8379 - categorical_accuracy: 0.5852\n",
      "Epoch 32/200\n",
      "5/5 [==============================] - 0s 79ms/step - loss: 0.7594 - categorical_accuracy: 0.6741\n",
      "Epoch 33/200\n",
      "5/5 [==============================] - 0s 63ms/step - loss: 0.8080 - categorical_accuracy: 0.6889\n",
      "Epoch 34/200\n",
      "5/5 [==============================] - 0s 63ms/step - loss: 0.7581 - categorical_accuracy: 0.7037\n",
      "Epoch 35/200\n",
      "5/5 [==============================] - 0s 67ms/step - loss: 0.6687 - categorical_accuracy: 0.7037\n",
      "Epoch 36/200\n",
      "5/5 [==============================] - 0s 63ms/step - loss: 1.6653 - categorical_accuracy: 0.6593\n",
      "Epoch 37/200\n",
      "5/5 [==============================] - 0s 67ms/step - loss: 2.5207 - categorical_accuracy: 0.2296\n",
      "Epoch 38/200\n",
      "5/5 [==============================] - 0s 63ms/step - loss: 1.6294 - categorical_accuracy: 0.2000\n",
      "Epoch 39/200\n",
      "5/5 [==============================] - 0s 71ms/step - loss: 1.7206 - categorical_accuracy: 0.2148\n",
      "Epoch 40/200\n",
      "5/5 [==============================] - 0s 67ms/step - loss: 1.5511 - categorical_accuracy: 0.2370\n",
      "Epoch 41/200\n",
      "5/5 [==============================] - 0s 63ms/step - loss: 1.4966 - categorical_accuracy: 0.2222\n",
      "Epoch 42/200\n",
      "5/5 [==============================] - 0s 63ms/step - loss: 1.4293 - categorical_accuracy: 0.3407\n",
      "Epoch 43/200\n",
      "5/5 [==============================] - 0s 59ms/step - loss: 1.3950 - categorical_accuracy: 0.4074\n",
      "Epoch 44/200\n",
      "5/5 [==============================] - 0s 67ms/step - loss: 1.2811 - categorical_accuracy: 0.4148\n",
      "Epoch 45/200\n",
      "5/5 [==============================] - 0s 77ms/step - loss: 1.2170 - categorical_accuracy: 0.4667\n",
      "Epoch 46/200\n",
      "5/5 [==============================] - 0s 67ms/step - loss: 1.2403 - categorical_accuracy: 0.3926\n",
      "Epoch 47/200\n",
      "5/5 [==============================] - 0s 68ms/step - loss: 1.3316 - categorical_accuracy: 0.4222\n",
      "Epoch 48/200\n",
      "5/5 [==============================] - ETA: 0s - loss: 1.2782 - categorical_accuracy: 0.39 - 0s 67ms/step - loss: 1.2814 - categorical_accuracy: 0.3852\n",
      "Epoch 49/200\n",
      "5/5 [==============================] - 0s 67ms/step - loss: 1.2721 - categorical_accuracy: 0.4074\n",
      "Epoch 50/200\n",
      "5/5 [==============================] - 0s 71ms/step - loss: 1.2100 - categorical_accuracy: 0.4519\n",
      "Epoch 51/200\n",
      "5/5 [==============================] - 0s 67ms/step - loss: 1.1035 - categorical_accuracy: 0.4741\n",
      "Epoch 52/200\n",
      "5/5 [==============================] - 0s 62ms/step - loss: 1.2173 - categorical_accuracy: 0.4593\n",
      "Epoch 53/200\n",
      "5/5 [==============================] - 0s 69ms/step - loss: 1.0948 - categorical_accuracy: 0.4444\n",
      "Epoch 54/200\n",
      "5/5 [==============================] - 0s 71ms/step - loss: 1.0951 - categorical_accuracy: 0.5185\n",
      "Epoch 55/200\n",
      "5/5 [==============================] - 0s 68ms/step - loss: 1.0440 - categorical_accuracy: 0.4889\n",
      "Epoch 56/200\n",
      "5/5 [==============================] - 0s 71ms/step - loss: 1.0758 - categorical_accuracy: 0.5111\n",
      "Epoch 57/200\n",
      "5/5 [==============================] - 0s 67ms/step - loss: 1.0714 - categorical_accuracy: 0.4963\n",
      "Epoch 58/200\n",
      "5/5 [==============================] - 0s 63ms/step - loss: 1.0768 - categorical_accuracy: 0.4444\n",
      "Epoch 59/200\n",
      "5/5 [==============================] - 0s 59ms/step - loss: 1.0276 - categorical_accuracy: 0.5407\n",
      "Epoch 60/200\n",
      "5/5 [==============================] - 0s 59ms/step - loss: 1.0215 - categorical_accuracy: 0.4741\n",
      "Epoch 61/200\n",
      "5/5 [==============================] - 0s 63ms/step - loss: 1.0343 - categorical_accuracy: 0.5630\n",
      "Epoch 62/200\n",
      "5/5 [==============================] - 0s 64ms/step - loss: 1.0007 - categorical_accuracy: 0.5407\n",
      "Epoch 63/200\n",
      "5/5 [==============================] - 0s 63ms/step - loss: 0.9736 - categorical_accuracy: 0.5259\n",
      "Epoch 64/200\n",
      "5/5 [==============================] - 0s 63ms/step - loss: 1.0070 - categorical_accuracy: 0.5111\n",
      "Epoch 65/200\n",
      "5/5 [==============================] - 0s 63ms/step - loss: 0.9503 - categorical_accuracy: 0.5556\n",
      "Epoch 66/200\n",
      "5/5 [==============================] - 0s 63ms/step - loss: 0.9271 - categorical_accuracy: 0.5704\n",
      "Epoch 67/200\n",
      "5/5 [==============================] - 0s 63ms/step - loss: 0.9662 - categorical_accuracy: 0.5259\n",
      "Epoch 68/200\n",
      "5/5 [==============================] - 0s 61ms/step - loss: 0.9132 - categorical_accuracy: 0.5630\n",
      "Epoch 69/200\n",
      "5/5 [==============================] - 0s 63ms/step - loss: 0.8785 - categorical_accuracy: 0.6222\n",
      "Epoch 70/200\n",
      "5/5 [==============================] - 0s 63ms/step - loss: 0.8966 - categorical_accuracy: 0.6148\n",
      "Epoch 71/200\n",
      "5/5 [==============================] - 0s 59ms/step - loss: 0.8941 - categorical_accuracy: 0.5778\n",
      "Epoch 72/200\n",
      "5/5 [==============================] - 0s 63ms/step - loss: 0.9311 - categorical_accuracy: 0.5556\n",
      "Epoch 73/200\n",
      "5/5 [==============================] - 0s 63ms/step - loss: 1.0074 - categorical_accuracy: 0.5185\n",
      "Epoch 74/200\n"
     ]
    },
    {
     "name": "stdout",
     "output_type": "stream",
     "text": [
      "5/5 [==============================] - 0s 63ms/step - loss: 1.0816 - categorical_accuracy: 0.5185\n",
      "Epoch 75/200\n",
      "5/5 [==============================] - 0s 59ms/step - loss: 1.0993 - categorical_accuracy: 0.4444\n",
      "Epoch 76/200\n",
      "5/5 [==============================] - 0s 59ms/step - loss: 1.0683 - categorical_accuracy: 0.4741\n",
      "Epoch 77/200\n",
      "5/5 [==============================] - 0s 59ms/step - loss: 0.9655 - categorical_accuracy: 0.5852\n",
      "Epoch 78/200\n",
      "5/5 [==============================] - 0s 59ms/step - loss: 1.0070 - categorical_accuracy: 0.4963\n",
      "Epoch 79/200\n",
      "5/5 [==============================] - 0s 63ms/step - loss: 1.0369 - categorical_accuracy: 0.5704\n",
      "Epoch 80/200\n",
      "5/5 [==============================] - 0s 63ms/step - loss: 0.9881 - categorical_accuracy: 0.5481\n",
      "Epoch 81/200\n",
      "5/5 [==============================] - 0s 67ms/step - loss: 0.9380 - categorical_accuracy: 0.5852\n",
      "Epoch 82/200\n",
      "5/5 [==============================] - 0s 63ms/step - loss: 0.9538 - categorical_accuracy: 0.5704\n",
      "Epoch 83/200\n",
      "5/5 [==============================] - 0s 63ms/step - loss: 0.9279 - categorical_accuracy: 0.6000\n",
      "Epoch 84/200\n",
      "5/5 [==============================] - 0s 66ms/step - loss: 1.0108 - categorical_accuracy: 0.5037\n",
      "Epoch 85/200\n",
      "5/5 [==============================] - 0s 67ms/step - loss: 1.0252 - categorical_accuracy: 0.4519\n",
      "Epoch 86/200\n",
      "5/5 [==============================] - 0s 63ms/step - loss: 1.0694 - categorical_accuracy: 0.4741\n",
      "Epoch 87/200\n",
      "5/5 [==============================] - 0s 59ms/step - loss: 0.9498 - categorical_accuracy: 0.5407\n",
      "Epoch 88/200\n",
      "5/5 [==============================] - 0s 59ms/step - loss: 0.9034 - categorical_accuracy: 0.6148\n",
      "Epoch 89/200\n",
      "5/5 [==============================] - 0s 59ms/step - loss: 0.9052 - categorical_accuracy: 0.5556\n",
      "Epoch 90/200\n",
      "5/5 [==============================] - 0s 59ms/step - loss: 0.8858 - categorical_accuracy: 0.5778\n",
      "Epoch 91/200\n",
      "5/5 [==============================] - 0s 67ms/step - loss: 0.8080 - categorical_accuracy: 0.6074\n",
      "Epoch 92/200\n",
      "5/5 [==============================] - 0s 86ms/step - loss: 0.7563 - categorical_accuracy: 0.6667\n",
      "Epoch 93/200\n",
      "5/5 [==============================] - 0s 63ms/step - loss: 0.7945 - categorical_accuracy: 0.6519\n",
      "Epoch 94/200\n",
      "5/5 [==============================] - 0s 71ms/step - loss: 0.7277 - categorical_accuracy: 0.6667\n",
      "Epoch 95/200\n",
      "5/5 [==============================] - 0s 82ms/step - loss: 0.8794 - categorical_accuracy: 0.6667\n",
      "Epoch 96/200\n",
      "5/5 [==============================] - 0s 59ms/step - loss: 0.7340 - categorical_accuracy: 0.6889\n",
      "Epoch 97/200\n",
      "5/5 [==============================] - 0s 63ms/step - loss: 0.7780 - categorical_accuracy: 0.6519\n",
      "Epoch 98/200\n",
      "5/5 [==============================] - 0s 78ms/step - loss: 0.7842 - categorical_accuracy: 0.6222\n",
      "Epoch 99/200\n",
      "5/5 [==============================] - 0s 63ms/step - loss: 0.8757 - categorical_accuracy: 0.5778\n",
      "Epoch 100/200\n",
      "5/5 [==============================] - 0s 72ms/step - loss: 0.7405 - categorical_accuracy: 0.6815\n",
      "Epoch 101/200\n",
      "5/5 [==============================] - 0s 75ms/step - loss: 0.9908 - categorical_accuracy: 0.5185\n",
      "Epoch 102/200\n",
      "5/5 [==============================] - 0s 61ms/step - loss: 0.8842 - categorical_accuracy: 0.6370\n",
      "Epoch 103/200\n",
      "5/5 [==============================] - 0s 63ms/step - loss: 1.0603 - categorical_accuracy: 0.4667\n",
      "Epoch 104/200\n",
      "5/5 [==============================] - 0s 75ms/step - loss: 0.8586 - categorical_accuracy: 0.6000\n",
      "Epoch 105/200\n",
      "5/5 [==============================] - 0s 63ms/step - loss: 0.7699 - categorical_accuracy: 0.6889\n",
      "Epoch 106/200\n",
      "5/5 [==============================] - 0s 63ms/step - loss: 0.7096 - categorical_accuracy: 0.7111\n",
      "Epoch 107/200\n",
      "5/5 [==============================] - 0s 67ms/step - loss: 0.8804 - categorical_accuracy: 0.6000\n",
      "Epoch 108/200\n",
      "5/5 [==============================] - 0s 71ms/step - loss: 0.7363 - categorical_accuracy: 0.6889\n",
      "Epoch 109/200\n",
      "5/5 [==============================] - 0s 59ms/step - loss: 0.6745 - categorical_accuracy: 0.7111\n",
      "Epoch 110/200\n",
      "5/5 [==============================] - 0s 63ms/step - loss: 0.7038 - categorical_accuracy: 0.6667\n",
      "Epoch 111/200\n",
      "5/5 [==============================] - 0s 63ms/step - loss: 0.6206 - categorical_accuracy: 0.7333\n",
      "Epoch 112/200\n",
      "5/5 [==============================] - 0s 60ms/step - loss: 0.6089 - categorical_accuracy: 0.6815\n",
      "Epoch 113/200\n",
      "5/5 [==============================] - 0s 59ms/step - loss: 0.6025 - categorical_accuracy: 0.6889\n",
      "Epoch 114/200\n",
      "5/5 [==============================] - 0s 63ms/step - loss: 0.6008 - categorical_accuracy: 0.7185\n",
      "Epoch 115/200\n",
      "5/5 [==============================] - 0s 75ms/step - loss: 0.5588 - categorical_accuracy: 0.7852\n",
      "Epoch 116/200\n",
      "5/5 [==============================] - 0s 63ms/step - loss: 0.7080 - categorical_accuracy: 0.6963\n",
      "Epoch 117/200\n",
      "5/5 [==============================] - 0s 64ms/step - loss: 0.5926 - categorical_accuracy: 0.7185\n",
      "Epoch 118/200\n",
      "5/5 [==============================] - 0s 71ms/step - loss: 0.6119 - categorical_accuracy: 0.7630\n",
      "Epoch 119/200\n",
      "5/5 [==============================] - 0s 65ms/step - loss: 0.5316 - categorical_accuracy: 0.7852\n",
      "Epoch 120/200\n",
      "5/5 [==============================] - 0s 63ms/step - loss: 0.5951 - categorical_accuracy: 0.7259\n",
      "Epoch 121/200\n",
      "5/5 [==============================] - 0s 67ms/step - loss: 0.5246 - categorical_accuracy: 0.7852\n",
      "Epoch 122/200\n",
      "5/5 [==============================] - 0s 59ms/step - loss: 0.4837 - categorical_accuracy: 0.8370\n",
      "Epoch 123/200\n",
      "5/5 [==============================] - 0s 71ms/step - loss: 4.7920 - categorical_accuracy: 0.3259\n",
      "Epoch 124/200\n",
      "5/5 [==============================] - 0s 63ms/step - loss: 1.6939 - categorical_accuracy: 0.2815\n",
      "Epoch 125/200\n",
      "5/5 [==============================] - 0s 62ms/step - loss: 1.6776 - categorical_accuracy: 0.2222\n",
      "Epoch 126/200\n",
      "5/5 [==============================] - 0s 59ms/step - loss: 1.6222 - categorical_accuracy: 0.2074\n",
      "Epoch 127/200\n",
      "5/5 [==============================] - 0s 63ms/step - loss: 1.5630 - categorical_accuracy: 0.2222\n",
      "Epoch 128/200\n",
      "5/5 [==============================] - 0s 63ms/step - loss: 1.5598 - categorical_accuracy: 0.1778\n",
      "Epoch 129/200\n",
      "5/5 [==============================] - 0s 78ms/step - loss: 1.5314 - categorical_accuracy: 0.3259\n",
      "Epoch 130/200\n",
      "5/5 [==============================] - 0s 67ms/step - loss: 1.5084 - categorical_accuracy: 0.2741\n",
      "Epoch 131/200\n",
      "5/5 [==============================] - 0s 63ms/step - loss: 1.4752 - categorical_accuracy: 0.3333\n",
      "Epoch 132/200\n",
      "5/5 [==============================] - 0s 63ms/step - loss: 1.4358 - categorical_accuracy: 0.5852\n",
      "Epoch 133/200\n",
      "5/5 [==============================] - 0s 59ms/step - loss: 1.3827 - categorical_accuracy: 0.5852\n",
      "Epoch 134/200\n",
      "5/5 [==============================] - 0s 59ms/step - loss: 1.3042 - categorical_accuracy: 0.6074\n",
      "Epoch 135/200\n",
      "5/5 [==============================] - 0s 59ms/step - loss: 1.1642 - categorical_accuracy: 0.5111\n",
      "Epoch 136/200\n",
      "5/5 [==============================] - 0s 59ms/step - loss: 0.9755 - categorical_accuracy: 0.5333\n",
      "Epoch 137/200\n",
      "5/5 [==============================] - 0s 59ms/step - loss: 0.9236 - categorical_accuracy: 0.5481\n",
      "Epoch 138/200\n",
      "5/5 [==============================] - 0s 59ms/step - loss: 1.0096 - categorical_accuracy: 0.4889\n",
      "Epoch 139/200\n",
      "5/5 [==============================] - 0s 64ms/step - loss: 0.9883 - categorical_accuracy: 0.5481\n",
      "Epoch 140/200\n",
      "5/5 [==============================] - 0s 63ms/step - loss: 1.0741 - categorical_accuracy: 0.4667\n",
      "Epoch 141/200\n",
      "5/5 [==============================] - 0s 67ms/step - loss: 1.2637 - categorical_accuracy: 0.3778\n",
      "Epoch 142/200\n",
      "5/5 [==============================] - 0s 64ms/step - loss: 1.1021 - categorical_accuracy: 0.4741\n",
      "Epoch 143/200\n",
      "5/5 [==============================] - 0s 67ms/step - loss: 1.0819 - categorical_accuracy: 0.5111\n",
      "Epoch 144/200\n",
      "5/5 [==============================] - 0s 63ms/step - loss: 1.0178 - categorical_accuracy: 0.6000\n",
      "Epoch 145/200\n",
      "5/5 [==============================] - 0s 63ms/step - loss: 0.9259 - categorical_accuracy: 0.5037\n",
      "Epoch 146/200\n",
      "5/5 [==============================] - 0s 59ms/step - loss: 0.8992 - categorical_accuracy: 0.5852\n",
      "Epoch 147/200\n"
     ]
    },
    {
     "name": "stdout",
     "output_type": "stream",
     "text": [
      "5/5 [==============================] - 0s 63ms/step - loss: 0.7749 - categorical_accuracy: 0.6519\n",
      "Epoch 148/200\n",
      "5/5 [==============================] - 0s 63ms/step - loss: 0.7437 - categorical_accuracy: 0.6519\n",
      "Epoch 149/200\n",
      "5/5 [==============================] - 0s 66ms/step - loss: 0.7316 - categorical_accuracy: 0.6667\n",
      "Epoch 150/200\n",
      "5/5 [==============================] - 0s 63ms/step - loss: 1.1293 - categorical_accuracy: 0.5185\n",
      "Epoch 151/200\n",
      "5/5 [==============================] - 0s 67ms/step - loss: 1.2190 - categorical_accuracy: 0.4815\n",
      "Epoch 152/200\n",
      "5/5 [==============================] - 0s 71ms/step - loss: 1.4070 - categorical_accuracy: 0.3111\n",
      "Epoch 153/200\n",
      "5/5 [==============================] - 0s 72ms/step - loss: 1.1557 - categorical_accuracy: 0.5111\n",
      "Epoch 154/200\n",
      "5/5 [==============================] - 0s 67ms/step - loss: 1.1403 - categorical_accuracy: 0.5259\n",
      "Epoch 155/200\n",
      "5/5 [==============================] - 0s 63ms/step - loss: 1.0425 - categorical_accuracy: 0.6074\n",
      "Epoch 156/200\n",
      "5/5 [==============================] - 0s 63ms/step - loss: 0.9475 - categorical_accuracy: 0.5926\n",
      "Epoch 157/200\n",
      "5/5 [==============================] - 0s 75ms/step - loss: 0.9030 - categorical_accuracy: 0.5407\n",
      "Epoch 158/200\n",
      "5/5 [==============================] - 0s 78ms/step - loss: 0.8762 - categorical_accuracy: 0.6222\n",
      "Epoch 159/200\n",
      "5/5 [==============================] - 0s 67ms/step - loss: 0.8326 - categorical_accuracy: 0.6222\n",
      "Epoch 160/200\n",
      "5/5 [==============================] - 0s 67ms/step - loss: 0.7988 - categorical_accuracy: 0.6370\n",
      "Epoch 161/200\n",
      "5/5 [==============================] - 0s 82ms/step - loss: 0.7955 - categorical_accuracy: 0.6148\n",
      "Epoch 162/200\n",
      "5/5 [==============================] - 0s 67ms/step - loss: 0.7519 - categorical_accuracy: 0.6222\n",
      "Epoch 163/200\n",
      "5/5 [==============================] - 0s 74ms/step - loss: 0.7268 - categorical_accuracy: 0.6667\n",
      "Epoch 164/200\n",
      "5/5 [==============================] - 0s 71ms/step - loss: 0.7450 - categorical_accuracy: 0.6370\n",
      "Epoch 165/200\n",
      "5/5 [==============================] - 0s 75ms/step - loss: 0.8697 - categorical_accuracy: 0.5926\n",
      "Epoch 166/200\n",
      "5/5 [==============================] - 0s 71ms/step - loss: 0.7345 - categorical_accuracy: 0.6074\n",
      "Epoch 167/200\n",
      "5/5 [==============================] - 0s 71ms/step - loss: 0.7192 - categorical_accuracy: 0.6593\n",
      "Epoch 168/200\n",
      "5/5 [==============================] - 0s 67ms/step - loss: 0.7004 - categorical_accuracy: 0.6519\n",
      "Epoch 169/200\n",
      "5/5 [==============================] - 0s 75ms/step - loss: 0.7584 - categorical_accuracy: 0.5778\n",
      "Epoch 170/200\n",
      "5/5 [==============================] - 0s 71ms/step - loss: 0.7477 - categorical_accuracy: 0.6296\n",
      "Epoch 171/200\n",
      "5/5 [==============================] - 0s 63ms/step - loss: 0.6685 - categorical_accuracy: 0.6667\n",
      "Epoch 172/200\n",
      "5/5 [==============================] - 0s 67ms/step - loss: 0.6346 - categorical_accuracy: 0.6889\n",
      "Epoch 173/200\n",
      "5/5 [==============================] - 0s 66ms/step - loss: 0.6217 - categorical_accuracy: 0.6889\n",
      "Epoch 174/200\n",
      "5/5 [==============================] - 0s 67ms/step - loss: 0.6069 - categorical_accuracy: 0.7037\n",
      "Epoch 175/200\n",
      "5/5 [==============================] - 0s 63ms/step - loss: 0.6290 - categorical_accuracy: 0.7037\n",
      "Epoch 176/200\n",
      "5/5 [==============================] - 0s 63ms/step - loss: 0.6476 - categorical_accuracy: 0.6519\n",
      "Epoch 177/200\n",
      "5/5 [==============================] - 0s 63ms/step - loss: 0.7972 - categorical_accuracy: 0.6444\n",
      "Epoch 178/200\n",
      "5/5 [==============================] - 0s 59ms/step - loss: 0.8364 - categorical_accuracy: 0.6222\n",
      "Epoch 179/200\n",
      "5/5 [==============================] - 0s 59ms/step - loss: 0.7609 - categorical_accuracy: 0.6667\n",
      "Epoch 180/200\n",
      "5/5 [==============================] - 0s 63ms/step - loss: 0.7170 - categorical_accuracy: 0.6815\n",
      "Epoch 181/200\n",
      "5/5 [==============================] - 0s 59ms/step - loss: 0.7425 - categorical_accuracy: 0.6889\n",
      "Epoch 182/200\n",
      "5/5 [==============================] - 0s 63ms/step - loss: 0.7263 - categorical_accuracy: 0.6222\n",
      "Epoch 183/200\n",
      "5/5 [==============================] - 0s 63ms/step - loss: 0.6520 - categorical_accuracy: 0.7111\n",
      "Epoch 184/200\n",
      "5/5 [==============================] - 0s 63ms/step - loss: 0.6300 - categorical_accuracy: 0.7185\n",
      "Epoch 185/200\n",
      "5/5 [==============================] - 0s 63ms/step - loss: 0.6155 - categorical_accuracy: 0.7407\n",
      "Epoch 186/200\n",
      "5/5 [==============================] - 0s 67ms/step - loss: 0.6268 - categorical_accuracy: 0.6667\n",
      "Epoch 187/200\n",
      "5/5 [==============================] - 0s 63ms/step - loss: 0.5972 - categorical_accuracy: 0.6815\n",
      "Epoch 188/200\n",
      "5/5 [==============================] - 0s 63ms/step - loss: 0.5862 - categorical_accuracy: 0.6963\n",
      "Epoch 189/200\n",
      "5/5 [==============================] - 0s 63ms/step - loss: 0.5773 - categorical_accuracy: 0.7259\n",
      "Epoch 190/200\n",
      "5/5 [==============================] - 0s 59ms/step - loss: 0.5938 - categorical_accuracy: 0.7185\n",
      "Epoch 191/200\n",
      "5/5 [==============================] - 0s 63ms/step - loss: 0.5378 - categorical_accuracy: 0.7259\n",
      "Epoch 192/200\n",
      "5/5 [==============================] - 0s 63ms/step - loss: 0.5696 - categorical_accuracy: 0.7333\n",
      "Epoch 193/200\n",
      "5/5 [==============================] - 0s 75ms/step - loss: 0.6038 - categorical_accuracy: 0.7259\n",
      "Epoch 194/200\n",
      "5/5 [==============================] - 0s 63ms/step - loss: 0.6150 - categorical_accuracy: 0.6667\n",
      "Epoch 195/200\n",
      "5/5 [==============================] - 0s 67ms/step - loss: 0.6393 - categorical_accuracy: 0.6889\n",
      "Epoch 196/200\n",
      "5/5 [==============================] - 0s 74ms/step - loss: 0.5676 - categorical_accuracy: 0.7259\n",
      "Epoch 197/200\n",
      "5/5 [==============================] - 0s 75ms/step - loss: 0.5272 - categorical_accuracy: 0.7704\n",
      "Epoch 198/200\n",
      "5/5 [==============================] - 0s 63ms/step - loss: 0.5400 - categorical_accuracy: 0.7185\n",
      "Epoch 199/200\n",
      "5/5 [==============================] - 0s 67ms/step - loss: 0.5264 - categorical_accuracy: 0.7333\n",
      "Epoch 200/200\n",
      "5/5 [==============================] - 0s 63ms/step - loss: 0.4955 - categorical_accuracy: 0.7778\n"
     ]
    },
    {
     "data": {
      "text/plain": [
       "<tensorflow.python.keras.callbacks.History at 0x16b5a69fdc0>"
      ]
     },
     "execution_count": 149,
     "metadata": {},
     "output_type": "execute_result"
    }
   ],
   "source": [
    "model.fit(X_train,y_train,epochs = 200, callbacks = [call_back])"
   ]
  },
  {
   "cell_type": "code",
   "execution_count": 116,
   "id": "af941bd4",
   "metadata": {},
   "outputs": [],
   "source": [
    "#making predictions\n",
    "res_test = model.predict(X_test)\n",
    "predicted_action = actions[np.argmax(res_test[1])]"
   ]
  },
  {
   "cell_type": "code",
   "execution_count": 142,
   "id": "2449a910",
   "metadata": {},
   "outputs": [
    {
     "data": {
      "text/plain": [
       "'good'"
      ]
     },
     "execution_count": 142,
     "metadata": {},
     "output_type": "execute_result"
    }
   ],
   "source": [
    "actions[np.argmax(res_test[7])]"
   ]
  },
  {
   "cell_type": "code",
   "execution_count": 143,
   "id": "f5c820b6",
   "metadata": {},
   "outputs": [
    {
     "data": {
      "text/plain": [
       "'good'"
      ]
     },
     "execution_count": 143,
     "metadata": {},
     "output_type": "execute_result"
    }
   ],
   "source": [
    "actions[np.argmax(y_test[7])]"
   ]
  },
  {
   "cell_type": "code",
   "execution_count": 150,
   "id": "3a72a331",
   "metadata": {},
   "outputs": [
    {
     "name": "stdout",
     "output_type": "stream",
     "text": [
      "Collecting pyttsx3\n",
      "  Downloading pyttsx3-2.90-py3-none-any.whl (39 kB)\n",
      "Collecting pypiwin32\n",
      "  Downloading pypiwin32-223-py3-none-any.whl (1.7 kB)\n",
      "Requirement already satisfied: comtypes in c:\\users\\techmac-pc\\anaconda3\\lib\\site-packages (from pyttsx3) (1.1.10)\n",
      "Requirement already satisfied: pywin32 in c:\\users\\techmac-pc\\anaconda3\\lib\\site-packages (from pyttsx3) (302)\n",
      "Installing collected packages: pypiwin32, pyttsx3\n",
      "Successfully installed pypiwin32-223 pyttsx3-2.90\n"
     ]
    }
   ],
   "source": [
    "!pip install pyttsx3"
   ]
  },
  {
   "cell_type": "code",
   "execution_count": 158,
   "id": "15c5250c",
   "metadata": {},
   "outputs": [],
   "source": [
    "import pyttsx3"
   ]
  },
  {
   "cell_type": "code",
   "execution_count": 178,
   "id": "5da3ddf9",
   "metadata": {},
   "outputs": [],
   "source": [
    "text_to_speech = pyttsx3.init(driverName='sapi5',debug=True)\n",
    "res_test = model.predict(X_test)\n",
    "text = actions[np.argmax(res_test[7])]"
   ]
  },
  {
   "cell_type": "code",
   "execution_count": 194,
   "id": "30e819db",
   "metadata": {},
   "outputs": [
    {
     "name": "stdout",
     "output_type": "stream",
     "text": [
      "good good\n"
     ]
    }
   ],
   "source": [
    "text = actions[np.argmax(res_test[7])]\n",
    "print(actions[np.argmax(y_test[7])],text)\n"
   ]
  },
  {
   "cell_type": "code",
   "execution_count": 203,
   "id": "e1aa8b02",
   "metadata": {},
   "outputs": [],
   "source": [
    "from gtts import gTTS\n",
    "import playsound\n",
    "\n",
    "def speak(text):\n",
    "    tts = gTTS(text=text, lang='en')\n",
    "    filename = 'voice.mp3'\n",
    "   # tts.save(filename)\n",
    "    playsound.playsound(filename)"
   ]
  },
  {
   "cell_type": "code",
   "execution_count": 202,
   "id": "7dac2d88",
   "metadata": {
    "collapsed": true
   },
   "outputs": [
    {
     "name": "stderr",
     "output_type": "stream",
     "text": [
      "\n",
      "    Error 265 for command:\n",
      "        open voice.mp3\n",
      "    The device name is already being used as an alias by this application.  Use a unique alias.\n"
     ]
    },
    {
     "ename": "PlaysoundException",
     "evalue": "\n    Error 265 for command:\n        open voice.mp3\n    The device name is already being used as an alias by this application.  Use a unique alias.",
     "output_type": "error",
     "traceback": [
      "\u001b[1;31m---------------------------------------------------------------------------\u001b[0m",
      "\u001b[1;31mPlaysoundException\u001b[0m                        Traceback (most recent call last)",
      "Input \u001b[1;32mIn [202]\u001b[0m, in \u001b[0;36m<cell line: 1>\u001b[1;34m()\u001b[0m\n\u001b[1;32m----> 1\u001b[0m \u001b[43mspeak\u001b[49m\u001b[43m(\u001b[49m\u001b[43mtext\u001b[49m\u001b[43m)\u001b[49m\n",
      "Input \u001b[1;32mIn [201]\u001b[0m, in \u001b[0;36mspeak\u001b[1;34m(text)\u001b[0m\n\u001b[0;32m      6\u001b[0m  filename \u001b[38;5;241m=\u001b[39m \u001b[38;5;124m'\u001b[39m\u001b[38;5;124mvoice.mp3\u001b[39m\u001b[38;5;124m'\u001b[39m\n\u001b[0;32m      7\u001b[0m \u001b[38;5;66;03m# tts.save(filename)\u001b[39;00m\n\u001b[1;32m----> 8\u001b[0m  \u001b[43mplaysound\u001b[49m\u001b[38;5;241;43m.\u001b[39;49m\u001b[43mplaysound\u001b[49m\u001b[43m(\u001b[49m\u001b[43mfilename\u001b[49m\u001b[43m)\u001b[49m\n",
      "File \u001b[1;32m~\\anaconda3\\lib\\site-packages\\playsound.py:72\u001b[0m, in \u001b[0;36m_playsoundWin\u001b[1;34m(sound, block)\u001b[0m\n\u001b[0;32m     70\u001b[0m \u001b[38;5;28;01mtry\u001b[39;00m:\n\u001b[0;32m     71\u001b[0m     logger\u001b[38;5;241m.\u001b[39mdebug(\u001b[38;5;124m'\u001b[39m\u001b[38;5;124mStarting\u001b[39m\u001b[38;5;124m'\u001b[39m)\n\u001b[1;32m---> 72\u001b[0m     \u001b[43mwinCommand\u001b[49m\u001b[43m(\u001b[49m\u001b[38;5;124;43mu\u001b[39;49m\u001b[38;5;124;43m'\u001b[39;49m\u001b[38;5;124;43mopen \u001b[39;49m\u001b[38;5;132;43;01m{}\u001b[39;49;00m\u001b[38;5;124;43m'\u001b[39;49m\u001b[38;5;241;43m.\u001b[39;49m\u001b[43mformat\u001b[49m\u001b[43m(\u001b[49m\u001b[43msound\u001b[49m\u001b[43m)\u001b[49m\u001b[43m)\u001b[49m\n\u001b[0;32m     73\u001b[0m     winCommand(\u001b[38;5;124mu\u001b[39m\u001b[38;5;124m'\u001b[39m\u001b[38;5;124mplay \u001b[39m\u001b[38;5;132;01m{}\u001b[39;00m\u001b[38;5;132;01m{}\u001b[39;00m\u001b[38;5;124m'\u001b[39m\u001b[38;5;241m.\u001b[39mformat(sound, \u001b[38;5;124m'\u001b[39m\u001b[38;5;124m wait\u001b[39m\u001b[38;5;124m'\u001b[39m \u001b[38;5;28;01mif\u001b[39;00m block \u001b[38;5;28;01melse\u001b[39;00m \u001b[38;5;124m'\u001b[39m\u001b[38;5;124m'\u001b[39m))\n\u001b[0;32m     74\u001b[0m     logger\u001b[38;5;241m.\u001b[39mdebug(\u001b[38;5;124m'\u001b[39m\u001b[38;5;124mReturning\u001b[39m\u001b[38;5;124m'\u001b[39m)\n",
      "File \u001b[1;32m~\\anaconda3\\lib\\site-packages\\playsound.py:64\u001b[0m, in \u001b[0;36m_playsoundWin.<locals>.winCommand\u001b[1;34m(*command)\u001b[0m\n\u001b[0;32m     60\u001b[0m     exceptionMessage \u001b[38;5;241m=\u001b[39m (\u001b[38;5;124m'\u001b[39m\u001b[38;5;130;01m\\n\u001b[39;00m\u001b[38;5;124m    Error \u001b[39m\u001b[38;5;124m'\u001b[39m \u001b[38;5;241m+\u001b[39m \u001b[38;5;28mstr\u001b[39m(errorCode) \u001b[38;5;241m+\u001b[39m \u001b[38;5;124m'\u001b[39m\u001b[38;5;124m for command:\u001b[39m\u001b[38;5;124m'\u001b[39m\n\u001b[0;32m     61\u001b[0m                         \u001b[38;5;124m'\u001b[39m\u001b[38;5;130;01m\\n\u001b[39;00m\u001b[38;5;124m        \u001b[39m\u001b[38;5;124m'\u001b[39m \u001b[38;5;241m+\u001b[39m command\u001b[38;5;241m.\u001b[39mdecode(\u001b[38;5;124m'\u001b[39m\u001b[38;5;124mutf-16\u001b[39m\u001b[38;5;124m'\u001b[39m) \u001b[38;5;241m+\u001b[39m\n\u001b[0;32m     62\u001b[0m                         \u001b[38;5;124m'\u001b[39m\u001b[38;5;130;01m\\n\u001b[39;00m\u001b[38;5;124m    \u001b[39m\u001b[38;5;124m'\u001b[39m \u001b[38;5;241m+\u001b[39m errorBuffer\u001b[38;5;241m.\u001b[39mraw\u001b[38;5;241m.\u001b[39mdecode(\u001b[38;5;124m'\u001b[39m\u001b[38;5;124mutf-16\u001b[39m\u001b[38;5;124m'\u001b[39m)\u001b[38;5;241m.\u001b[39mrstrip(\u001b[38;5;124m'\u001b[39m\u001b[38;5;130;01m\\0\u001b[39;00m\u001b[38;5;124m'\u001b[39m))\n\u001b[0;32m     63\u001b[0m     logger\u001b[38;5;241m.\u001b[39merror(exceptionMessage)\n\u001b[1;32m---> 64\u001b[0m     \u001b[38;5;28;01mraise\u001b[39;00m PlaysoundException(exceptionMessage)\n\u001b[0;32m     65\u001b[0m \u001b[38;5;28;01mreturn\u001b[39;00m buf\u001b[38;5;241m.\u001b[39mvalue\n",
      "\u001b[1;31mPlaysoundException\u001b[0m: \n    Error 265 for command:\n        open voice.mp3\n    The device name is already being used as an alias by this application.  Use a unique alias."
     ]
    }
   ],
   "source": [
    "speak(text)"
   ]
  },
  {
   "cell_type": "code",
   "execution_count": 204,
   "id": "6f772e1d",
   "metadata": {
    "collapsed": true
   },
   "outputs": [
    {
     "ename": "NameError",
     "evalue": "name 'on' is not defined",
     "output_type": "error",
     "traceback": [
      "\u001b[1;31m---------------------------------------------------------------------------\u001b[0m",
      "\u001b[1;31mNameError\u001b[0m                                 Traceback (most recent call last)",
      "Input \u001b[1;32mIn [204]\u001b[0m, in \u001b[0;36m<cell line: 2>\u001b[1;34m()\u001b[0m\n\u001b[0;32m      1\u001b[0m feature_points \u001b[38;5;241m=\u001b[39m []\n\u001b[0;32m      2\u001b[0m \u001b[38;5;28;01mwith\u001b[39;00m mp_holistic\u001b[38;5;241m.\u001b[39mHolistic(min_detection_confidence \u001b[38;5;241m=\u001b[39m \u001b[38;5;241m0.5\u001b[39m, min_tracking_confidence \u001b[38;5;241m=\u001b[39m \u001b[38;5;241m0.5\u001b[39m) \u001b[38;5;28;01mas\u001b[39;00m holistic:\n\u001b[1;32m----> 3\u001b[0m     \u001b[38;5;28;01mwhile\u001b[39;00m cap \u001b[38;5;129;01mis\u001b[39;00m \u001b[43mon\u001b[49m:\n\u001b[0;32m      5\u001b[0m         ret,frame \u001b[38;5;241m=\u001b[39m cap\u001b[38;5;241m.\u001b[39mread() \u001b[38;5;66;03m#capturing a snap\u001b[39;00m\n\u001b[0;32m      6\u001b[0m         \u001b[38;5;66;03m#make detections\u001b[39;00m\n",
      "\u001b[1;31mNameError\u001b[0m: name 'on' is not defined"
     ]
    }
   ],
   "source": [
    "feature_points = []\n",
    "with mp_holistic.Holistic(min_detection_confidence = 0.5, min_tracking_confidence = 0.5) as holistic:\n",
    "    while cap is on:\n",
    "                \n",
    "        ret,frame = cap.read() #capturing a snap\n",
    "        #make detections\n",
    "        image, results = mediapipe_detection(frame,holistic)\n",
    "        #draw_landmarks(image,results)\n",
    "        key_points = extract_keypoints(results)\n",
    "        feature_points.append(key_points)\n",
    "        if cv2.waitKey(10) & 0xFF == ord('q'):\n",
    "            cap.release()\n",
    "            cv2.destroyAllWindows()\n",
    "            break\n",
    "        if len(feature_points) > 29:\n",
    "            #check is the image is defined\n",
    "            res = model.predict(feature_points)\n",
    "            if res[na.argmax(res)] > 0.5:\n",
    "                #prints the action\n",
    "                action = actions[na.argmax(res)]\n",
    "                print(action)\n",
    "                #remove all frames\n",
    "                featur_points.clear()\n",
    "                cv2.waitKey(200)\n",
    "            else:\n",
    "                #remove the first frame\n",
    "                feature_points.remove(0)\n",
    "            \n"
   ]
  },
  {
   "cell_type": "code",
   "execution_count": null,
   "id": "85eca3b6",
   "metadata": {},
   "outputs": [],
   "source": [
    "#play action\n",
    "def play_vid(action,cam):\n",
    "    sequences,labels = [],[]\n",
    "    window = []\n",
    "    for lenght in range(len_sequence):\n",
    "        res = np.load(os.path.join(data_path,action,'{}.npy'.format(lenght)))\n",
    "        window.append(res)\n",
    "    sequences.append(window)\n",
    "    \n",
    "return sequences\n",
    "    "
   ]
  },
  {
   "cell_type": "code",
   "execution_count": null,
   "id": "86e6d36b",
   "metadata": {},
   "outputs": [],
   "source": [
    "def "
   ]
  },
  {
   "cell_type": "code",
   "execution_count": null,
   "id": "f39cf544",
   "metadata": {},
   "outputs": [],
   "source": [
    "#speech to sign language\n",
    "import SpeecRecognition as sr\n",
    "#convert speech to text\n",
    "r = sr.recognizer()\n",
    "image = np.load(os.path.join(data_path,action,'{}.npy'.format(lenght))) #load pose image\n",
    "#find the text on resources and display it to the screen\n",
    "#getting back the data text = speach_text()\n",
    "with sr.Microphone() as source:\n",
    "    audio = r.listen(source)\n",
    "    try:\n",
    "        text = r.recognize_google(audio)\n",
    "        if len(text)> 0:\n",
    "            for image in play_vid(action):\n",
    "                cv2.imshow('openCV Feed',image) #show image on screen\n",
    "    except:\n",
    "        cv2.imshow('openCV Feed',image) #show image on screen"
   ]
  }
 ],
 "metadata": {
  "kernelspec": {
   "display_name": "Python 3 (ipykernel)",
   "language": "python",
   "name": "python3"
  },
  "language_info": {
   "codemirror_mode": {
    "name": "ipython",
    "version": 3
   },
   "file_extension": ".py",
   "mimetype": "text/x-python",
   "name": "python",
   "nbconvert_exporter": "python",
   "pygments_lexer": "ipython3",
   "version": "3.9.12"
  }
 },
 "nbformat": 4,
 "nbformat_minor": 5
}
