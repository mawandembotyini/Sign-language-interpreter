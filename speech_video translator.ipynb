{
 "cells": [
  {
   "cell_type": "code",
   "execution_count": 12,
   "id": "f0c7d2c4",
   "metadata": {},
   "outputs": [],
   "source": [
    "import os\n",
    "import cv2\n",
    "#speech to sign language\n",
    "import speech_recognition as sr\n",
    "import numpy as np\n",
    "\n",
    "data_path = os.path.join('videos') #path for exported data\n"
   ]
  },
  {
   "cell_type": "code",
   "execution_count": null,
   "id": "80f4f527",
   "metadata": {},
   "outputs": [],
   "source": []
  },
  {
   "cell_type": "code",
   "execution_count": null,
   "id": "e582c7ce",
   "metadata": {},
   "outputs": [],
   "source": []
  },
  {
   "cell_type": "code",
   "execution_count": 13,
   "id": "a9ac433e",
   "metadata": {},
   "outputs": [],
   "source": [
    "#play action\n",
    "def play_vid(action,cam):\n",
    "    sequences,labels = [],[]\n",
    "    window = []\n",
    "    for lenght in range(len_sequence):\n",
    "        res = np.load(os.path.join(data_path,action,'{}.npy'.format(lenght)))\n",
    "        window.append(res)\n",
    "    sequences.append(window)\n",
    "    \n",
    "    return sequences\n",
    "    "
   ]
  },
  {
   "cell_type": "code",
   "execution_count": 37,
   "id": "d3118aa4",
   "metadata": {},
   "outputs": [
    {
     "name": "stdout",
     "output_type": "stream",
     "text": [
      "['welcome', 'to', 'the', 'jungle']\n"
     ]
    }
   ],
   "source": [
    "txt = \"welcome to the jungle\"\n",
    "\n",
    "x = txt.split()\n",
    "\n",
    "print(x)"
   ]
  },
  {
   "cell_type": "code",
   "execution_count": 57,
   "id": "b4042072",
   "metadata": {},
   "outputs": [],
   "source": [
    "#read video and display it on screen\n",
    "def get_video(action):\n",
    "    cap = cv2.VideoCapture(0) #to use internal camera\n",
    "    len_sequence = 30 #number of frames for each video\n",
    "    action = action.replace(' ','_')\n",
    "    x = 1\n",
    "    for x in range(1):\n",
    "        x += 1\n",
    "        for lenght in range(len_sequence):\n",
    "            filename = os.path.join(data_path,action,'{}.jpg'.format(str(lenght))) #path to the image\n",
    "            #print(results)\n",
    "            #display results \n",
    "            cv2.waitKey(100) \n",
    "            try:\n",
    "                frame = cv2.imread(filename)\n",
    "                cv2.imshow('openCV Feed',frame) #show image on screen\n",
    "                if cv2.waitKey(10) & 0xFF == ord('q'):\n",
    "                    break\n",
    "            except:\n",
    "                print('video does not exist')\n",
    "                      \n",
    "    cap.release()\n",
    "    cv2.destroyAllWindows()"
   ]
  },
  {
   "cell_type": "code",
   "execution_count": 58,
   "id": "848cec20",
   "metadata": {},
   "outputs": [],
   "source": [
    "#convert speech to text\n",
    "def speec_vid_conveter():\n",
    "    r = sr.Recognizer()\n",
    "    #find the text on resources and display it to the screen\n",
    "    #getting back the data text = speach_text()\n",
    "    with sr.Microphone() as source:\n",
    "        audio = r.listen(source)\n",
    "        try:\n",
    "            print('getting text')\n",
    "            text = r.recognize_google(audio)\n",
    "            print(text)\n",
    "            if len(text)> 0:\n",
    "                get_video(text)\n",
    "            print('done generating text')\n",
    "        \n",
    "        except sr.RequestError as e:\n",
    "            print(\"Could not request results from Google Speech Recognition service; {0}\".format(e))\n",
    "        except:\n",
    "            #cv2.imshow('openCV Feed',image) #show image on screen\n",
    "            print(\"Sphinx could not understand audio\")"
   ]
  },
  {
   "cell_type": "code",
   "execution_count": 60,
   "id": "f3b4fe76",
   "metadata": {},
   "outputs": [
    {
     "name": "stdout",
     "output_type": "stream",
     "text": [
      "getting text\n",
      "Sphinx could not understand audio\n",
      "getting text\n",
      "hello\n",
      "done generating text\n",
      "getting text\n",
      "how are you\n",
      "done generating text\n",
      "getting text\n",
      "bad\n",
      "done generating text\n",
      "getting text\n",
      "Sphinx could not understand audio\n"
     ]
    }
   ],
   "source": [
    "x = 0\n",
    "while x < 5:\n",
    "    speec_vid_conveter()\n",
    "    x += 1"
   ]
  },
  {
   "cell_type": "code",
   "execution_count": null,
   "id": "45ed8060",
   "metadata": {},
   "outputs": [],
   "source": []
  },
  {
   "cell_type": "code",
   "execution_count": null,
   "id": "70834347",
   "metadata": {},
   "outputs": [],
   "source": []
  }
 ],
 "metadata": {
  "kernelspec": {
   "display_name": "Python 3 (ipykernel)",
   "language": "python",
   "name": "python3"
  },
  "language_info": {
   "codemirror_mode": {
    "name": "ipython",
    "version": 3
   },
   "file_extension": ".py",
   "mimetype": "text/x-python",
   "name": "python",
   "nbconvert_exporter": "python",
   "pygments_lexer": "ipython3",
   "version": "3.9.12"
  }
 },
 "nbformat": 4,
 "nbformat_minor": 5
}
