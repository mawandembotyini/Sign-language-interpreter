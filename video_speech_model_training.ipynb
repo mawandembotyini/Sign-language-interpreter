{
 "cells": [
  {
   "cell_type": "code",
   "execution_count": 12,
   "id": "36ade569",
   "metadata": {},
   "outputs": [],
   "source": [
    "#pre processing the data\n",
    "from sklearn.model_selection import train_test_split #used to split the data into training and evaluation\n",
    "from tensorflow.keras.utils import to_categorical #used to converts data to one hat encoding\n",
    "import numpy as np\n",
    "import os\n",
    "\n",
    "actions = np.array(['hello','how_are_you','good','Bad','Thank_you'])\n",
    "data_path = os.path.join('mpdata') #path for exported data\n",
    "label_map = {label:num for num,label in enumerate(actions)} #map the actions to enumeration"
   ]
  },
  {
   "cell_type": "code",
   "execution_count": 13,
   "id": "872269b1",
   "metadata": {},
   "outputs": [
    {
     "data": {
      "text/plain": [
       "{'hello': 0, 'how_are_you': 1, 'good': 2, 'Bad': 3, 'Thank_you': 4}"
      ]
     },
     "execution_count": 13,
     "metadata": {},
     "output_type": "execute_result"
    }
   ],
   "source": [
    "label_map"
   ]
  },
  {
   "cell_type": "code",
   "execution_count": 14,
   "id": "d40eb458",
   "metadata": {},
   "outputs": [],
   "source": [
    "#getting back the data\n",
    "no_sequences = 30\n",
    "len_sequence = 30\n",
    "\n",
    "sequences,labels = [],[]\n",
    "for action in actions:\n",
    "    for sequence in range(no_sequences):\n",
    "        window = []\n",
    "        for lenght in range(len_sequence):\n",
    "            res = np.load(os.path.join(data_path,action,str(sequence),'{}.npy'.format(lenght)))\n",
    "            window.append(res)\n",
    "        sequences.append(window)\n",
    "        labels.append(label_map[action])"
   ]
  },
  {
   "cell_type": "code",
   "execution_count": 15,
   "id": "f8dd3ae7",
   "metadata": {},
   "outputs": [],
   "source": [
    "X = np.array(sequences)\n",
    "Y = to_categorical(labels).astype(int) #one hot encoding the labels"
   ]
  },
  {
   "cell_type": "code",
   "execution_count": 16,
   "id": "bf14d73f",
   "metadata": {},
   "outputs": [],
   "source": [
    "#processing traing data\n",
    "X_train,X_test,y_train,y_test = train_test_split(X,Y,test_size = 0.1)"
   ]
  },
  {
   "cell_type": "code",
   "execution_count": 17,
   "id": "b7fe6581",
   "metadata": {},
   "outputs": [],
   "source": [
    "#build and train the neural network\n",
    "from tensorflow.keras.models import Sequential\n",
    "from tensorflow.keras.layers import LSTM, Dense\n",
    "from tensorflow.keras.callbacks import TensorBoard\n",
    "\n",
    "#tensor board allows to see the progress of your model while it is training\n",
    "log_dir = os.path.join('logs')\n",
    "call_back = TensorBoard(log_dir = log_dir)"
   ]
  },
  {
   "cell_type": "code",
   "execution_count": 18,
   "id": "24a75bad",
   "metadata": {},
   "outputs": [],
   "source": [
    "model = Sequential()\n",
    "model.add(LSTM(64, return_sequences = True, activation = 'relu',input_shape = (30,1662)))\n",
    "model.add(LSTM(128, return_sequences = True, activation = 'relu'))\n",
    "model.add(LSTM(64, return_sequences = False, activation = 'relu'))\n",
    "\n",
    "model.add(Dense(64, activation = 'relu'))\n",
    "model.add(Dense(32, activation = 'relu'))\n",
    "model.add(Dense(actions.shape[0], activation = 'softmax'))"
   ]
  },
  {
   "cell_type": "code",
   "execution_count": null,
   "id": "9b29d9ff",
   "metadata": {},
   "outputs": [],
   "source": [
    "model.compile(optimizer ='Adam',loss='categorical_crossentropy',metrics='categorical_accuracy')"
   ]
  },
  {
   "cell_type": "code",
   "execution_count": null,
   "id": "d44271e4",
   "metadata": {},
   "outputs": [],
   "source": [
    "model.fit(X_train,y_train,epochs = 200, callbacks = [call_back])"
   ]
  },
  {
   "cell_type": "code",
   "execution_count": null,
   "id": "e81128e2",
   "metadata": {},
   "outputs": [],
   "source": [
    "#making predictions\n",
    "res_test = model.predict(X_test)\n",
    "predicted_action = actions[np.argmax(res_test[1])]"
   ]
  },
  {
   "cell_type": "code",
   "execution_count": null,
   "id": "b973cd71",
   "metadata": {},
   "outputs": [],
   "source": [
    "data_path = os.path.join('models') #path for exported data\n",
    "model.save(os.path.join(data_path,'model{}.h5'.format(1))"
   ]
  }
 ],
 "metadata": {
  "kernelspec": {
   "display_name": "Python 3 (ipykernel)",
   "language": "python",
   "name": "python3"
  },
  "language_info": {
   "codemirror_mode": {
    "name": "ipython",
    "version": 3
   },
   "file_extension": ".py",
   "mimetype": "text/x-python",
   "name": "python",
   "nbconvert_exporter": "python",
   "pygments_lexer": "ipython3",
   "version": "3.9.12"
  }
 },
 "nbformat": 4,
 "nbformat_minor": 5
}
