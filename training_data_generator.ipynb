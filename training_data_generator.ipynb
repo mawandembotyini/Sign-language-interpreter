{
 "cells": [
  {
   "cell_type": "code",
   "execution_count": 1,
   "id": "70504d6b",
   "metadata": {},
   "outputs": [],
   "source": [
    "import cv2 #computer vision to work with webcam\n",
    "import numpy as np\n",
    "import os #used to work with file paths\n",
    "from matplotlib import pyplot as plt #used for visualisation\n",
    "import time\n",
    "import mediapipe as mp #used to extract keypoints"
   ]
  },
  {
   "cell_type": "code",
   "execution_count": 2,
   "id": "1baa8cfc",
   "metadata": {},
   "outputs": [],
   "source": [
    "#holistic\n",
    "mp_holistic = mp.solutions.holistic #make predictions on body\n",
    "mp_drawing = mp.solutions.drawing_utils #draw our predictions"
   ]
  },
  {
   "cell_type": "code",
   "execution_count": 3,
   "id": "b6dfc1c1",
   "metadata": {},
   "outputs": [],
   "source": [
    "def mediapipe_detection(image,model):\n",
    "    image = cv2.cvtColor(image,cv2.COLOR_BGR2RGB)\n",
    "    image.flags.writeable = False\n",
    "    results = model.process(image)\n",
    "    image.flags.writeable = True\n",
    "    image = cv2.cvtColor(image,cv2.COLOR_RGB2BGR)\n",
    "    return image,results"
   ]
  },
  {
   "cell_type": "code",
   "execution_count": 4,
   "id": "73e1286c",
   "metadata": {},
   "outputs": [],
   "source": [
    "def draw_landmarks(image,results):\n",
    "    mp_drawing.draw_landmarks(image,results.face_landmarks,mp_holistic.FACEMESH_CONTOURS,\n",
    "                              mp_drawing.DrawingSpec(color = (50,50,130),thickness = 1, circle_radius = 1),\n",
    "                              mp_drawing.DrawingSpec(color = (100,100,100),thickness = 1, circle_radius = 1))\n",
    "    mp_drawing.draw_landmarks(image,results.pose_landmarks,mp_holistic.POSE_CONNECTIONS)\n",
    "    mp_drawing.draw_landmarks(image,results.left_hand_landmarks,mp_holistic.HAND_CONNECTIONS)\n",
    "    mp_drawing.draw_landmarks(image,results.right_hand_landmarks,mp_holistic.HAND_CONNECTIONS)"
   ]
  },
  {
   "cell_type": "code",
   "execution_count": 5,
   "id": "c1065620",
   "metadata": {},
   "outputs": [],
   "source": [
    "def extract_keypoints(results):\n",
    "    pose = np.array([[res.x,res.y,res.z, res.visibility] for res in results.pose_landmarks.landmark]).flatten() if results.pose_landmarks else np.zeros(33*4)\n",
    "    face = np.array([[res.x,res.y,res.z] for res in results.face_landmarks.landmark]).flatten() if results.face_landmarks else np.zeros(468*3)\n",
    "    left_hand = np.array([[res.x,res.y,res.z] for res in results.left_hand_landmarks.landmark]).flatten() if results.left_hand_landmarks else np.zeros(21*3)\n",
    "    right_hand = np.array([[res.x,res.y,res.z] for res in results.right_hand_landmarks.landmark]).flatten() if results.right_hand_landmarks else np.zeros(21*3)\n",
    "    return np.concatenate([pose,face,left_hand,right_hand])"
   ]
  },
  {
   "cell_type": "code",
   "execution_count": 6,
   "id": "2c73461f",
   "metadata": {},
   "outputs": [],
   "source": [
    "#create videos\n",
    "\n",
    "#create media pipe model\n",
    "actions = np.array(['Thank_you'])\n",
    "no_sequences = 30 #number of videos to use for training\n",
    "len_sequence = 30 #number of frames for each video\n",
    "video = []\n",
    "data_path = os.path.join('mpdata') #path for exported data"
   ]
  },
  {
   "cell_type": "code",
   "execution_count": 7,
   "id": "57a29f42",
   "metadata": {},
   "outputs": [],
   "source": [
    "#create folders\n",
    "for action in actions:\n",
    "    for sequence in range(no_sequences):\n",
    "        try:\n",
    "            os.makedirs(os.path.join(data_path,action,str(sequence)))\n",
    "        except:\n",
    "            pass"
   ]
  },
  {
   "cell_type": "code",
   "execution_count": null,
   "id": "174e2883",
   "metadata": {},
   "outputs": [],
   "source": [
    "#create videos\n",
    "cap = cv2.VideoCapture(0) #to use internal camera\n",
    "#create media pipe model\n",
    "\n",
    "blank_image = 255 * np.ones(shape=[512, 512, 3], dtype=np.uint8)\n",
    "with mp_holistic.Holistic(min_detection_confidence = 0.5, min_tracking_confidence = 0.5) as holistic:\n",
    "    for action in actions:\n",
    "        for sequence in range(no_sequences):\n",
    "            for lenght in range(len_sequence):\n",
    "                \n",
    "                ret,frame = cap.read() #capturing a snap\n",
    "                #make detections\n",
    "                image, results = mediapipe_detection(frame,holistic)\n",
    "                \n",
    "                #draw_landmarks(image,results)\n",
    "                #print(results)\n",
    "                #display results\n",
    "               # cv2.waitKey(100)\n",
    "                if lenght == 0:\n",
    "                    cv2.putText(image,'starting collecting data',(12,20), cv2.FONT_HERSHEY_SIMPLEX,1, (0,255,0),1, cv2.LINE_AA)\n",
    "                    cv2.putText(image,'collecting frames for {} video_number {}'.format(action,str(sequence)),(12,10), \n",
    "                                cv2.FONT_HERSHEY_SIMPLEX,1, (0,0,255),1, cv2.LINE_AA)\n",
    "                    cv2.waitKey(2000)\n",
    "                else:\n",
    "                    cv2.putText(image,'collecting frames for {} video_number {}'.format(action,str(sequence)),(12,150), \n",
    "                                cv2.FONT_HERSHEY_SIMPLEX,1, (0,0,255),1, cv2.LINE_AA)\n",
    "                key_points = extract_keypoints(results)\n",
    "                npy_path = os.path.join(data_path,action,str(sequence),str(lenght))\n",
    "                np.save(npy_path,key_points)\n",
    "                cv2.imshow('openCV Feed',image) #show image on screen\n",
    "                video.append(image)\n",
    "                if cv2.waitKey(10) & 0xFF == ord('q'):\n",
    "                    break\n",
    "cv2.putText(blank_image,'getting ready to play the video',(12,50), cv2.FONT_HERSHEY_SIMPLEX,1, (255,255,0),1, cv2.LINE_AA)\n",
    "cv2.imshow('openCV Feed',blank_image)\n",
    "cv2.waitKey(4000)                    \n",
    "for image in video:\n",
    "    \n",
    "    \n",
    "    if cv2.waitKey(10) & 0xFF == ord('q'):\n",
    "        break\n",
    "    else:\n",
    "        cv2.putText(image,'playing the video',(12,20), cv2.FONT_HERSHEY_SIMPLEX,1, (0,255,0),1, cv2.LINE_AA)\n",
    "        cv2.waitKey(150)\n",
    "        cv2.imshow('openCV Feed',image) #show image on screen\n",
    "               \n",
    "                \n",
    "cap.release()\n",
    "cv2.destroyAllWindows()"
   ]
  },
  {
   "cell_type": "code",
   "execution_count": null,
   "id": "6370d730",
   "metadata": {},
   "outputs": [],
   "source": []
  }
 ],
 "metadata": {
  "kernelspec": {
   "display_name": "Python 3 (ipykernel)",
   "language": "python",
   "name": "python3"
  },
  "language_info": {
   "codemirror_mode": {
    "name": "ipython",
    "version": 3
   },
   "file_extension": ".py",
   "mimetype": "text/x-python",
   "name": "python",
   "nbconvert_exporter": "python",
   "pygments_lexer": "ipython3",
   "version": "3.9.12"
  }
 },
 "nbformat": 4,
 "nbformat_minor": 5
}
